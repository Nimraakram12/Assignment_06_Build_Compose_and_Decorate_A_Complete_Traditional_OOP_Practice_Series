{
  "nbformat": 4,
  "nbformat_minor": 0,
  "metadata": {
    "colab": {
      "provenance": [],
      "authorship_tag": "ABX9TyOAlFGYoctTfcf3LJklrrTG",
      "include_colab_link": true
    },
    "kernelspec": {
      "name": "python3",
      "display_name": "Python 3"
    },
    "language_info": {
      "name": "python"
    }
  },
  "cells": [
    {
      "cell_type": "markdown",
      "metadata": {
        "id": "view-in-github",
        "colab_type": "text"
      },
      "source": [
        "<a href=\"https://colab.research.google.com/github/Nimraakram12/Assignment_06_Build_Compose_and_Decorate_A_Complete_Traditional_OOP_Practice_Series/blob/main/06_Build_Compose_and_Decorate_A_Complete_Traditional_OOP_Practice_Series.ipynb\" target=\"_parent\"><img src=\"https://colab.research.google.com/assets/colab-badge.svg\" alt=\"Open In Colab\"/></a>"
      ]
    },
    {
      "cell_type": "markdown",
      "source": [
        "**1. Using self**"
      ],
      "metadata": {
        "id": "sHJUYnLjZBAA"
      }
    },
    {
      "cell_type": "code",
      "source": [
        "class Student:\n",
        "    def __init__(self, name, marks):\n",
        "        self.name = name\n",
        "        self.marks = marks\n",
        "\n",
        "    def display(self):\n",
        "        print(f\"Student Name: {self.name}\")\n",
        "        print(f\"Marks: {self.marks}\")\n",
        "\n",
        "# Example usage:\n",
        "s1 = Student(\"Nimra\", [92, 85, 78])\n",
        "s1.display()"
      ],
      "metadata": {
        "colab": {
          "base_uri": "https://localhost:8080/"
        },
        "id": "jH9RR0OaZDJb",
        "outputId": "be7b2c88-93e0-4247-f878-2d1baee46b31"
      },
      "execution_count": null,
      "outputs": [
        {
          "output_type": "stream",
          "name": "stdout",
          "text": [
            "Student Name: Nimra\n",
            "Marks: [92, 85, 78]\n"
          ]
        }
      ]
    },
    {
      "cell_type": "markdown",
      "source": [
        "**2. Using cls**"
      ],
      "metadata": {
        "id": "Tz5X3NNUhgiV"
      }
    },
    {
      "cell_type": "code",
      "source": [
        "class Counter:\n",
        "    count = 0\n",
        "\n",
        "    def __init__(self):\n",
        "        Counter.count += 1\n",
        "\n",
        "    @classmethod\n",
        "    def display_count(cls):\n",
        "        print(f\"Total objects created: {cls.count}\")\n",
        "    @classmethod\n",
        "    def reset_count(cls):\n",
        "        \"\"\"\n",
        "        Resets the object count back to 0.\n",
        "        \"\"\"\n",
        "        cls.count = 0\n",
        "c1 = Counter()\n",
        "c2 = Counter()\n",
        "c3 = Counter()\n",
        "Counter.display_count()\n",
        "Counter.reset_count()\n",
        "Counter.display_count()\n"
      ],
      "metadata": {
        "colab": {
          "base_uri": "https://localhost:8080/"
        },
        "id": "jYWmrfJkhzOC",
        "outputId": "85b09485-1bcb-4f6d-e1f1-d28e113bc110"
      },
      "execution_count": null,
      "outputs": [
        {
          "output_type": "stream",
          "name": "stdout",
          "text": [
            "Total objects created: 3\n",
            "Total objects created: 0\n"
          ]
        }
      ]
    },
    {
      "cell_type": "markdown",
      "source": [
        "**3. Public Variables and Methods**"
      ],
      "metadata": {
        "id": "0wPqs7tdjBAw"
      }
    },
    {
      "cell_type": "code",
      "source": [
        "class Car:\n",
        "    def __init__(self, brand: str):\n",
        "        # Public variable\n",
        "        self.brand = brand\n",
        "\n",
        "    # Public method\n",
        "    def start(self):\n",
        "        \"\"\"\n",
        "        Simulates starting the car engine.\n",
        "        \"\"\"\n",
        "        print(f\"{self.brand} engine started!\")\n",
        "\n",
        "# Instantiate the class\n",
        "my_car = Car(\"Honda Civic\")\n",
        "\n",
        "# Access public variable and method from outside the class\n",
        "print(f\"Car Brand: {my_car.brand}\")\n",
        "my_car.start()"
      ],
      "metadata": {
        "colab": {
          "base_uri": "https://localhost:8080/"
        },
        "id": "hrTAzsxIjE-j",
        "outputId": "82ca1cad-8287-4230-b5a1-2d9ac12fe21a"
      },
      "execution_count": null,
      "outputs": [
        {
          "output_type": "stream",
          "name": "stdout",
          "text": [
            "Car Brand: Honda Civic\n",
            "Honda Civic engine started!\n"
          ]
        }
      ]
    },
    {
      "cell_type": "markdown",
      "source": [
        "**4. Class Variables and Class Methods**"
      ],
      "metadata": {
        "id": "Wp8NCbvomVGB"
      }
    },
    {
      "cell_type": "code",
      "source": [
        "class Bank:\n",
        "    # Class variable\n",
        "    bank_name = \"ABC Bank\"\n",
        "\n",
        "    def __init__(self, account_holder: str):\n",
        "        self.account_holder = account_holder\n",
        "\n",
        "\n",
        "    # Class method to change bank name\n",
        "    @classmethod\n",
        "    def change_bank_name(cls, name: str):\n",
        "        cls.bank_name = name\n",
        "\n",
        "    def display_info(self):\n",
        "        print(f\"Account Holder: {self.account_holder}\")\n",
        "        print(f\"Bank Name: {Bank.bank_name}\")\n",
        "\n",
        "\n",
        "# Create instances\n",
        "account1 = Bank(\"Nimra\")\n",
        "account2 = Bank(\"Akram\")\n",
        "\n",
        "# Display initial information\n",
        "print(\"Initial Bank Information:\")\n",
        "account1.display_info()\n",
        "account2.display_info()\n",
        "\n",
        "# Change bank name using class method\n",
        "Bank.change_bank_name(\"XYZ Bank\")\n",
        "\n",
        "# Display updated information\n",
        "print(\"After Changing Bank Name:\")\n",
        "account1.display_info()\n",
        "account2.display_info()"
      ],
      "metadata": {
        "colab": {
          "base_uri": "https://localhost:8080/"
        },
        "id": "MPkYMkDUlAEr",
        "outputId": "1014a2fe-9adb-4f8d-ee94-400e0a862913"
      },
      "execution_count": null,
      "outputs": [
        {
          "output_type": "stream",
          "name": "stdout",
          "text": [
            "Initial Bank Information:\n",
            "Account Holder: Nimra\n",
            "Bank Name: ABC Bank\n",
            "Account Holder: Akram\n",
            "Bank Name: ABC Bank\n",
            "After Changing Bank Name:\n",
            "Account Holder: Nimra\n",
            "Bank Name: XYZ Bank\n",
            "Account Holder: Akram\n",
            "Bank Name: XYZ Bank\n"
          ]
        }
      ]
    },
    {
      "cell_type": "markdown",
      "source": [
        "**5. Static Variables and Static Methods**"
      ],
      "metadata": {
        "id": "U5-lEJv5mX2Q"
      }
    },
    {
      "cell_type": "code",
      "source": [
        "class MathUtils:\n",
        "    @staticmethod\n",
        "    def add(a: float, b: float) -> float:\n",
        "        \"\"\"\n",
        "        Returns the sum of two numbers.\n",
        "        \"\"\"\n",
        "        return a + b\n",
        "\n",
        "# Demonstrate usage\n",
        "result1 = MathUtils.add(5, 3)\n",
        "print(f\"Sum of 5 and 3: {result1}\")\n",
        "\n",
        "result2 = MathUtils.add(10.5, 4.2)\n",
        "print(f\"Sum of 10.5 and 4.2: {result2}\")"
      ],
      "metadata": {
        "colab": {
          "base_uri": "https://localhost:8080/"
        },
        "id": "BXwrlbHOmf8o",
        "outputId": "fcf55453-b54c-4705-98fd-e2834c9e3e54"
      },
      "execution_count": null,
      "outputs": [
        {
          "output_type": "stream",
          "name": "stdout",
          "text": [
            "Sum of 5 and 3: 8\n",
            "Sum of 10.5 and 4.2: 14.7\n"
          ]
        }
      ]
    },
    {
      "cell_type": "markdown",
      "source": [
        "**6. Constructors and Destructors**"
      ],
      "metadata": {
        "id": "deGYKkzimyP_"
      }
    },
    {
      "cell_type": "code",
      "source": [
        "class Logger:\n",
        "    def __init__(self):\n",
        "        print(\"Logger: An instance has been created.\")\n",
        "\n",
        "    def __del__(self):\n",
        "        print(\"Logger: An instance is being destroyed.\")\n",
        "def create_and_destroy():\n",
        "    log = Logger()\n",
        "    print(\"Inside function.\")\n",
        "\n",
        "create_and_destroy()"
      ],
      "metadata": {
        "colab": {
          "base_uri": "https://localhost:8080/"
        },
        "id": "qMIYrk2_ndSd",
        "outputId": "148818c8-faff-4ea8-8ceb-e1e0cd613f05"
      },
      "execution_count": null,
      "outputs": [
        {
          "output_type": "stream",
          "name": "stdout",
          "text": [
            "Logger: An instance has been created.\n",
            "Inside function.\n",
            "Logger: An instance is being destroyed.\n"
          ]
        }
      ]
    },
    {
      "cell_type": "markdown",
      "source": [
        "**7. Access Modifiers: Public, Private, and Protected**"
      ],
      "metadata": {
        "id": "wTYyG-Ufni1F"
      }
    },
    {
      "cell_type": "code",
      "source": [
        "class Employee:\n",
        "    def __init__(self, name, salary, ssn):\n",
        "        #Public\n",
        "        self.name = name\n",
        "        # Protected\n",
        "        self._salary = salary\n",
        "        # Private\n",
        "        self.__ssn = ssn\n",
        "\n",
        "    def display_info(self):\n",
        "        print(f\"Name: {self.name}, Salary: {self._salary}, SSN: {self.__ssn}\")\n",
        "\n",
        "emp1 = Employee(\"Nimra\", 75000, \"123-45-678\")\n",
        "print(emp1.name)\n",
        "\n",
        "print(emp1._salary)\n",
        "try:\n",
        "    print(emp1.__ssn)\n",
        "except AttributeError as e:\n",
        "    print(e)\n",
        "print(emp1._Employee__ssn)\n",
        "\n",
        "emp1.display_info()\n"
      ],
      "metadata": {
        "colab": {
          "base_uri": "https://localhost:8080/"
        },
        "id": "cnTBL3Lkok1n",
        "outputId": "dd8b0016-b6ba-462a-fcf9-753dd082f180"
      },
      "execution_count": null,
      "outputs": [
        {
          "output_type": "stream",
          "name": "stdout",
          "text": [
            "Nimra\n",
            "75000\n",
            "'Employee' object has no attribute '__ssn'\n",
            "123-45-678\n",
            "Name: Nimra, Salary: 75000, SSN: 123-45-678\n"
          ]
        }
      ]
    },
    {
      "cell_type": "markdown",
      "source": [
        "**Step-by-Step Documentation**\n",
        "\n",
        "**Class Definition**: Employee\n",
        "The Employee class is defined with a constructor (__init__) that takes three parameters: name, salary, and ssn.\n",
        "\n",
        "**Public Variable**: self.name = name creates a public instance variable name, accessible from anywhere.\n",
        "\n",
        "**Protected Variable**: self._salary = salary creates a protected instance variable _salary, indicated by a single underscore. By convention, it should only be accessed within the class or subclasses, but Python does not enforce this.\n",
        "\n",
        "**Private Variable**: self.__ssn = ssn creates a private instance variable __ssn, indicated by double underscores. Python uses name mangling to rename it to _Employee__ssn, making it harder to access outside the class.\n",
        "The display_info method prints the values of name, _salary, and __ssn in a formatted string. Since it’s defined within the class, it can access all variables, including the private __ssn.\n",
        "\n",
        "**Object Creation**: emp1 = Employee(\"Nimra\", 75000, \"123-45-678\")\n",
        "An Employee object emp1 is instantiated with:\n",
        "name = \"Nimra\" (public)\n",
        "salary = 75000 (protected, stored as _salary)\n",
        "ssn = \"123-45-678\" (private, stored as _Employee__ssn due to name mangling)\n",
        "The constructor sets these values as instance variables for emp1.\n",
        "\n",
        "**Accessing Public Variable**: print(emp1.name)\n",
        "Action: Attempts to access the public variable name directly using emp1.name.\n",
        "\n",
        "**Outcome**: Successfully prints \"Nimra\".\n",
        "\n",
        "**Reason**: Public variables are fully accessible from outside the class without restrictions.\n",
        "\n",
        "**Accessing Protected Variable**: print(emp1._salary)\n",
        "Action: Attempts to access the protected variable _salary directly using emp1._salary.\n",
        "\n",
        "**Outcome**: Successfully prints 75000.\n",
        "\n",
        "**Reason**: Although _salary is marked as protected (single underscore), Python does not enforce access restrictions. The underscore is a convention signaling that _salary is intended for internal or subclass use, but it can still be accessed directly. This is generally discouraged unless you’re subclassing or have a specific reason.\n",
        "\n",
        "**Accessing Private Variable** (Attempt): try: print(emp1.__ssn)\n",
        "Action: Attempts to access the private variable __ssn directly using emp1.__ssn within a try-except block to catch potential errors.\n",
        "\n",
        "**Outcome**: Raises an AttributeError and prints the error message: 'Employee' object has no attribute '__ssn'.\n",
        "\n",
        "**Reason**: Python’s name mangling renames __ssn to _Employee__ssn internally to prevent accidental access outside the class. Attempting to access emp1.__ssn fails because no attribute named __ssn exists on the object.\n",
        "\n",
        "**Accessing Private Variable via Name Mangling**: print(emp1._Employee__ssn)\n",
        "\n",
        "**Action**: Attempts to access the private variable __ssn using its mangled name, emp1._Employee__ssn.\n",
        "\n",
        "**Outcome**: Successfully prints \"123-45-678\".\n",
        "\n",
        "**Reason**: Python’s name mangling changes __ssn to _Employee__ssn to obscure it, but it’s still accessible if you know the mangled name. This is not recommended in practice, as it bypasses the intended encapsulation, but it demonstrates that Python’s private variables are not truly private, just harder to access.\n",
        "\n",
        "**Calling display_info**: emp1.display_info()\n",
        "\n",
        "**Action**: Calls the display_info method on emp1.\n",
        "\n",
        "**Outcome**: Prints"
      ],
      "metadata": {
        "id": "u0RVRj1Gp4_k"
      }
    },
    {
      "cell_type": "markdown",
      "source": [
        "**8. The super() Function**"
      ],
      "metadata": {
        "id": "IKCzlhUQox_v"
      }
    },
    {
      "cell_type": "code",
      "source": [
        "class Person:\n",
        "    def __init__(self, name: str):\n",
        "        \"\"\"\n",
        "        Constructor: Initializes a Person with a name.\n",
        "        \"\"\"\n",
        "        self.name = name\n",
        "\n",
        "    def display_info(self):\n",
        "        \"\"\"\n",
        "        Displays the person's name.\n",
        "        \"\"\"\n",
        "        print(f\"Person constructor called for {self.name}\")\n",
        "\n",
        "class Teacher(Person):\n",
        "    def __init__(self, name: str, subject: str):\n",
        "        \"\"\"\n",
        "        Constructor: Initializes a Teacher with a name and subject, using super() to call Person's constructor.\n",
        "        \"\"\"\n",
        "        super().__init__(name)  # Call the base class constructor\n",
        "        self.subject = subject\n",
        "\n",
        "    def display_info(self):\n",
        "        \"\"\"\n",
        "        Displays the teacher's name and subject.\n",
        "        \"\"\"\n",
        "        super().display_info()  # Call the base class display_info\n",
        "        print(f\"Teacher constructor called for {self.name}, Subject: {self.subject}\")\n",
        "\n",
        "# Demonstrate usage\n",
        "teacher = Teacher(\"Sir Arif Rozani\", \"Mathematics\")\n",
        "\n",
        "# Display teacher information\n",
        "print(\"Teacher Information:\")\n",
        "teacher.display_info()"
      ],
      "metadata": {
        "colab": {
          "base_uri": "https://localhost:8080/"
        },
        "id": "qvESNS60o1qW",
        "outputId": "23cf504a-ba52-4fd7-acbe-5780a0fcd636"
      },
      "execution_count": null,
      "outputs": [
        {
          "output_type": "stream",
          "name": "stdout",
          "text": [
            "Teacher Information:\n",
            "Person constructor called for Sir Ali Jawwad\n",
            "Teacher constructor called for Sir Ali Jawwad, Subject: Mathematics\n"
          ]
        }
      ]
    },
    {
      "cell_type": "markdown",
      "source": [
        "**9. Abstract Classes and Methods (Shape and Rectangle)**"
      ],
      "metadata": {
        "id": "eaMTWrMfsOX_"
      }
    },
    {
      "cell_type": "code",
      "source": [
        "from abc import ABC, abstractmethod\n",
        "class Shape(ABC):\n",
        "    @abstractmethod\n",
        "    def area(self):\n",
        "        pass\n",
        "class Rectangle(Shape):\n",
        "    def __init__(self, length, width):\n",
        "        self.length = length\n",
        "        self.width = width\n",
        "\n",
        "    def area(self):\n",
        "        return self.length * self.width\n",
        "rect = Rectangle(4, 2)\n",
        "print(f\"Area of Rectangle: {rect.area()}\")\n",
        "try:\n",
        "    shape = Shape()\n",
        "except TypeError as e:\n",
        "    print(e)"
      ],
      "metadata": {
        "colab": {
          "base_uri": "https://localhost:8080/"
        },
        "id": "rC-4O6EysZEv",
        "outputId": "4859ad34-e1ac-458e-bf7c-136c00a04cc6"
      },
      "execution_count": null,
      "outputs": [
        {
          "output_type": "stream",
          "name": "stdout",
          "text": [
            "Area of Rectangle: 8\n",
            "Can't instantiate abstract class Shape with abstract method area\n"
          ]
        }
      ]
    },
    {
      "cell_type": "markdown",
      "source": [
        "**10. Instance Methods**"
      ],
      "metadata": {
        "id": "9j5nXdoKs96e"
      }
    },
    {
      "cell_type": "code",
      "source": [
        "class Dog:\n",
        "    def __init__(self, name: str, breed: str):\n",
        "        \"\"\"\n",
        "        Constructor: Initializes a Dog with a name and breed.\n",
        "        \"\"\"\n",
        "        self.name = name\n",
        "        self.breed = breed\n",
        "\n",
        "    def bark(self):\n",
        "        \"\"\"\n",
        "        Instance method: Prints a barking message including the dog's name.\n",
        "        \"\"\"\n",
        "        print(f\"{self.name} says: Woof Woof!\")\n",
        "\n",
        "# Demonstrate usage\n",
        "dog1 = Dog(\"Buddy\", \"Golden Retriever\")\n",
        "dog2 = Dog(\"Luna\", \"Husky\")\n",
        "\n",
        "# Call the bark method\n",
        "print(\"Dog 1:\")\n",
        "dog1.bark()\n",
        "\n",
        "print(\"\\nDog 2:\")\n",
        "dog2.bark()"
      ],
      "metadata": {
        "colab": {
          "base_uri": "https://localhost:8080/"
        },
        "id": "IKWj7P0TtFS1",
        "outputId": "073f0b2e-7577-4e9d-c90f-d48c6546b4bb"
      },
      "execution_count": null,
      "outputs": [
        {
          "output_type": "stream",
          "name": "stdout",
          "text": [
            "Dog 1:\n",
            "Buddy says: Woof Woof!\n",
            "\n",
            "Dog 2:\n",
            "Luna says: Woof Woof!\n"
          ]
        }
      ]
    },
    {
      "cell_type": "markdown",
      "source": [
        "**11. Class Methods**"
      ],
      "metadata": {
        "id": "bnekgge2uHpk"
      }
    },
    {
      "cell_type": "code",
      "source": [
        "class Book:\n",
        "    # Class variable\n",
        "    total_books = 0\n",
        "\n",
        "    def __init__(self, title: str, author: str):\n",
        "        \"\"\"\n",
        "        Constructor: Initializes a Book with a title and author, and increments total_books.\n",
        "        \"\"\"\n",
        "        self.title = title\n",
        "        self.author = author\n",
        "        Book.increment_book_count()\n",
        "\n",
        "    @classmethod\n",
        "    def increment_book_count(cls):\n",
        "        \"\"\"\n",
        "        Class method: Increments the total_books class variable.\n",
        "        \"\"\"\n",
        "        cls.total_books += 1\n",
        "\n",
        "    def display_info(self):\n",
        "        \"\"\"\n",
        "        Instance method: Displays the book's title and author.\n",
        "        \"\"\"\n",
        "        print(f\"Title: {self.title}, Author: {self.author}\")\n",
        "\n",
        "# Demonstrate usage\n",
        "print(f\"Initial total books: {Book.total_books}\")\n",
        "\n",
        "# Create book instances\n",
        "book1 = Book( \"Foundational/OOP Theory\",\" Erich Gamma\")\n",
        "book1.display_info()\n",
        "print(f\"Total books after adding first book: {Book.total_books}\")\n",
        "\n",
        "book2 = Book(\" Language-Specific OOP Guides\", \"Joshua Bloch\")\n",
        "book2.display_info()\n",
        "print(f\"Total books after adding second book: {Book.total_books}\")"
      ],
      "metadata": {
        "colab": {
          "base_uri": "https://localhost:8080/"
        },
        "id": "qk1OICS5uJXr",
        "outputId": "ca6b8376-4d94-486a-d57f-34b93ab6c7b8"
      },
      "execution_count": null,
      "outputs": [
        {
          "output_type": "stream",
          "name": "stdout",
          "text": [
            "Initial total books: 0\n",
            "Title: Foundational/OOP Theory, Author:  Erich Gamma\n",
            "Total books after adding first book: 1\n",
            "Title:  Language-Specific OOP Guides, Author: Joshua Bloch\n",
            "Total books after adding second book: 2\n"
          ]
        }
      ]
    },
    {
      "cell_type": "markdown",
      "source": [
        "**12. Static Methods**"
      ],
      "metadata": {
        "id": "-SQCnCH_vJ8h"
      }
    },
    {
      "cell_type": "code",
      "source": [
        "class TemperatureConverter:\n",
        "    @staticmethod\n",
        "    def celsius_to_fahrenheit(c: float) -> float:\n",
        "        \"\"\"\n",
        "        Static method: Converts a temperature from Celsius to Fahrenheit.\n",
        "        Formula: (°C * 9/5) + 32\n",
        "        \"\"\"\n",
        "        return (c * 9/5) + 32\n",
        "\n",
        "# Demonstrate usage\n",
        "temp1 = 0\n",
        "temp2 = 100\n",
        "temp3 = 25\n",
        "\n",
        "print(f\"{temp1}°C = {TemperatureConverter.celsius_to_fahrenheit(temp1)}°F\")\n",
        "print(f\"{temp2}°C = {TemperatureConverter.celsius_to_fahrenheit(temp2)}°F\")\n",
        "print(f\"{temp3}°C = {TemperatureConverter.celsius_to_fahrenheit(temp3)}°F\")"
      ],
      "metadata": {
        "colab": {
          "base_uri": "https://localhost:8080/"
        },
        "id": "5Wf38qz8wNKw",
        "outputId": "49c783c5-bb12-4ba5-f4e6-9473055feac4"
      },
      "execution_count": null,
      "outputs": [
        {
          "output_type": "stream",
          "name": "stdout",
          "text": [
            "0°C = 32.0°F\n",
            "100°C = 212.0°F\n",
            "25°C = 77.0°F\n"
          ]
        }
      ]
    },
    {
      "cell_type": "markdown",
      "source": [
        "**13. Composition**"
      ],
      "metadata": {
        "id": "P57nBqFOwjTG"
      }
    },
    {
      "cell_type": "code",
      "source": [
        "class Engine:\n",
        "    def __init__(self, type: str):\n",
        "        \"\"\"\n",
        "        Constructor: Initializes an Engine with a type.\n",
        "        \"\"\"\n",
        "        self.type = type\n",
        "\n",
        "    def start(self):\n",
        "        \"\"\"\n",
        "        Method: Simulates starting the engine.\n",
        "        \"\"\"\n",
        "        print(f\"{self.type} engine started!\")\n",
        "\n",
        "class Car:\n",
        "    def __init__(self, brand: str, engine: Engine):\n",
        "        \"\"\"\n",
        "        Constructor: Initializes a Car with a brand and an Engine object.\n",
        "        \"\"\"\n",
        "        self.brand = brand\n",
        "        self.engine = engine  # Composition: Car contains an Engine object\n",
        "\n",
        "    def start_car(self):\n",
        "        \"\"\"\n",
        "        Method: Accesses the Engine's start method to start the car.\n",
        "        \"\"\"\n",
        "        print(f\"Starting the {self.brand}...\")\n",
        "        self.engine.start()\n",
        "\n",
        "# Demonstrate usage\n",
        "engine = Engine(\"V6\")\n",
        "car = Car(\"Toyota\", engine)\n",
        "\n",
        "# Access Engine's method via Car\n",
        "car.start_car()"
      ],
      "metadata": {
        "colab": {
          "base_uri": "https://localhost:8080/"
        },
        "id": "MGNVldTxwlJW",
        "outputId": "542be25d-1e26-46d4-f177-75b6e0980d8a"
      },
      "execution_count": null,
      "outputs": [
        {
          "output_type": "stream",
          "name": "stdout",
          "text": [
            "Starting the Toyota...\n",
            "V6 engine started!\n"
          ]
        }
      ]
    },
    {
      "cell_type": "markdown",
      "source": [
        "**14. Aggregation**"
      ],
      "metadata": {
        "id": "jbciFtT7w_w9"
      }
    },
    {
      "cell_type": "code",
      "source": [
        "class Employee:\n",
        "    def __init__(self, name: str, id: str):\n",
        "        \"\"\"\n",
        "        Constructor: Initializes an Employee with a name and ID.\n",
        "        \"\"\"\n",
        "        self.name = name\n",
        "        self.id = id\n",
        "\n",
        "    def display_info(self):\n",
        "        \"\"\"\n",
        "        Method: Displays the employee's name and ID.\n",
        "        \"\"\"\n",
        "        print(f\"Employee Name: {self.name}, ID: {self.id}\")\n",
        "\n",
        "class Department:\n",
        "    def __init__(self, name: str, employee: Employee):\n",
        "        \"\"\"\n",
        "        Constructor: Initializes a Department with a name and a reference to an Employee.\n",
        "        \"\"\"\n",
        "        self.name = name\n",
        "        self.employee = employee  # Aggregation: Department references an existing Employee\n",
        "\n",
        "    def show_details(self):\n",
        "        \"\"\"\n",
        "        Method: Displays department name and accesses the Employee's display_info method.\n",
        "        \"\"\"\n",
        "        print(f\"Department: {self.name}\")\n",
        "        print(\"Assigned Employee:\")\n",
        "        self.employee.display_info()\n",
        "\n",
        "# Demonstrate usage\n",
        "# Create an Employee object independently\n",
        "employee = Employee(\"Nimra Akram\", \"E123\")\n",
        "\n",
        "# Create a Department object that references the Employee\n",
        "department = Department(\"IT\", employee)\n",
        "\n",
        "# Show department details, accessing Employee info\n",
        "department.show_details()\n",
        "\n",
        "# Demonstrate that Employee exists independently\n",
        "print(\"\\nAccessing Employee directly:\")\n",
        "employee.display_info()"
      ],
      "metadata": {
        "colab": {
          "base_uri": "https://localhost:8080/"
        },
        "id": "7f0TmZowxET2",
        "outputId": "dcc96fc7-0fb8-4a66-ad9f-cc8fd33b56de"
      },
      "execution_count": null,
      "outputs": [
        {
          "output_type": "stream",
          "name": "stdout",
          "text": [
            "Department: IT\n",
            "Assigned Employee:\n",
            "Employee Name: Nimra Akram, ID: E123\n",
            "\n",
            "Accessing Employee directly:\n",
            "Employee Name: Nimra Akram, ID: E123\n"
          ]
        }
      ]
    },
    {
      "cell_type": "markdown",
      "source": [
        "**15. Method Resolution Order (MRO) and Diamond Inheritance**"
      ],
      "metadata": {
        "id": "llTxHTsHyqLi"
      }
    },
    {
      "cell_type": "code",
      "source": [
        "class A:\n",
        "    def show(self):\n",
        "        \"\"\"\n",
        "        Method: Displays a message indicating it's from class A.\n",
        "        \"\"\"\n",
        "        print(\"Show method from class A\")\n",
        "\n",
        "class B(A):\n",
        "    def show(self):\n",
        "        \"\"\"\n",
        "        Method: Overrides A's show() to display a message from class B.\n",
        "        \"\"\"\n",
        "        print(\"Show method from class B\")\n",
        "\n",
        "class C(A):\n",
        "    def show(self):\n",
        "        \"\"\"\n",
        "        Method: Overrides A's show() to display a message from class C.\n",
        "        \"\"\"\n",
        "        print(\"Show method from class C\")\n",
        "\n",
        "class D(B, C):\n",
        "    pass\n",
        "\n",
        "# Demonstrate usage\n",
        "# Create an object of D\n",
        "d = D()\n",
        "\n",
        "# Call show() on D's object\n",
        "print(\"Calling show() on D's object:\")\n",
        "d.show()\n",
        "\n",
        "# Display the Method Resolution Order\n",
        "print(\"\\nMethod Resolution Order (MRO) for class D:\")\n",
        "print(D.__mro__)"
      ],
      "metadata": {
        "colab": {
          "base_uri": "https://localhost:8080/"
        },
        "id": "PolwJHQjyudC",
        "outputId": "8e143fe1-5c63-4432-92a2-cd527dfbb1cd"
      },
      "execution_count": null,
      "outputs": [
        {
          "output_type": "stream",
          "name": "stdout",
          "text": [
            "Calling show() on D's object:\n",
            "Show method from class B\n",
            "\n",
            "Method Resolution Order (MRO) for class D:\n",
            "(<class '__main__.D'>, <class '__main__.B'>, <class '__main__.C'>, <class '__main__.A'>, <class 'object'>)\n"
          ]
        }
      ]
    },
    {
      "cell_type": "markdown",
      "source": [
        "**16. Function Decorators**"
      ],
      "metadata": {
        "id": "8rhcjUEHzO2p"
      }
    },
    {
      "cell_type": "code",
      "source": [
        "def log_function_call(func):\n",
        "    \"\"\"\n",
        "    Decorator: Prints a message before the decorated function is called.\n",
        "    \"\"\"\n",
        "    def wrapper():\n",
        "        print(\"Function is being called\")\n",
        "        return func()\n",
        "    return wrapper\n",
        "\n",
        "@log_function_call\n",
        "def say_hello():\n",
        "    \"\"\"\n",
        "    Function: Prints a greeting message.\n",
        "    \"\"\"\n",
        "    print(\"Hello, World!\")\n",
        "\n",
        "# Demonstrate usage\n",
        "say_hello()"
      ],
      "metadata": {
        "colab": {
          "base_uri": "https://localhost:8080/"
        },
        "id": "M3O_9PFAzmR3",
        "outputId": "1985cf33-221f-4b9f-9fa7-aced8da0c941"
      },
      "execution_count": null,
      "outputs": [
        {
          "output_type": "stream",
          "name": "stdout",
          "text": [
            "Function is being called\n",
            "Hello, World!\n"
          ]
        }
      ]
    },
    {
      "cell_type": "markdown",
      "source": [
        "**17. Class Decorator**s"
      ],
      "metadata": {
        "id": "cc_M7IKEzorg"
      }
    },
    {
      "cell_type": "code",
      "source": [
        "def add_greeting(cls):\n",
        "    \"\"\"\n",
        "    Class decorator: Adds a greet() method to the class that returns a greeting message.\n",
        "    \"\"\"\n",
        "    def greet(self):\n",
        "        \"\"\"\n",
        "        Method: Returns a greeting message from the decorator.\n",
        "        \"\"\"\n",
        "        return \"Hello from Decorator!\"\n",
        "\n",
        "    # Add the greet method to the class\n",
        "    setattr(cls, 'greet', greet)\n",
        "    return cls\n",
        "\n",
        "@add_greeting\n",
        "class Person:\n",
        "    def __init__(self, name: str):\n",
        "        \"\"\"\n",
        "        Constructor: Initializes a Person with a name.\n",
        "        \"\"\"\n",
        "        self.name = name\n",
        "\n",
        "    def display_info(self):\n",
        "        \"\"\"\n",
        "        Method: Displays the person's name.\n",
        "        \"\"\"\n",
        "        print(f\"Name: {self.name}\")\n",
        "\n",
        "# Demonstrate usage\n",
        "person = Person(\"Nimra Akram\")\n",
        "\n",
        "# Call the decorated greet method\n",
        "print(person.greet())\n",
        "\n",
        "# Call the original display_info method\n",
        "person.display_info()"
      ],
      "metadata": {
        "colab": {
          "base_uri": "https://localhost:8080/"
        },
        "id": "3gObvpAoz2O_",
        "outputId": "9f7b0283-0ab8-45a9-90a4-bbae915363ba"
      },
      "execution_count": null,
      "outputs": [
        {
          "output_type": "stream",
          "name": "stdout",
          "text": [
            "Hello from Decorator!\n",
            "Name: Nimra Akram\n"
          ]
        }
      ]
    },
    {
      "cell_type": "markdown",
      "source": [
        "**18. Property Decorators: @property, @setter, and @deleter**"
      ],
      "metadata": {
        "id": "cVdpiidS0Mzn"
      }
    },
    {
      "cell_type": "code",
      "source": [
        "class Product:\n",
        "    def __init__(self, name: str, price: float):\n",
        "        \"\"\"\n",
        "        Constructor: Initializes a Product with a name and price.\n",
        "        \"\"\"\n",
        "        self.name = name\n",
        "        self._price = price  # Private attribute\n",
        "\n",
        "    @property\n",
        "    def price(self) -> float:\n",
        "        \"\"\"\n",
        "        Getter: Returns the product's price.\n",
        "        \"\"\"\n",
        "        return self._price\n",
        "\n",
        "    @price.setter\n",
        "    def price(self, value: float):\n",
        "        \"\"\"\n",
        "        Setter: Updates the product's price, ensuring it's non-negative.\n",
        "        \"\"\"\n",
        "        if value < 0:\n",
        "            raise ValueError(\"Price cannot be negative\")\n",
        "        self._price = value\n",
        "\n",
        "    @price.deleter\n",
        "    def price(self):\n",
        "        \"\"\"\n",
        "        Deleter: Deletes the product's price and sets it to None.\n",
        "        \"\"\"\n",
        "        print(f\"Deleting price for {self.name}\")\n",
        "        self._price = None\n",
        "\n",
        "# Demonstrate usage\n",
        "product = Product(\"Laptop\", 1000.0)\n",
        "\n",
        "# Get price using property\n",
        "print(f\"Initial price: ${product.price}\")\n",
        "\n",
        "# Update price using setter\n",
        "product.price = 1200.0\n",
        "print(f\"Updated price: ${product.price}\")\n",
        "\n",
        "# Attempt to set a negative price\n",
        "try:\n",
        "    product.price = -50.0\n",
        "except ValueError as e:\n",
        "    print(f\"Error: {e}\")\n",
        "\n",
        "# Delete price using deleter\n",
        "del product.price\n",
        "print(f\"Price after deletion: {product.price}\")\n",
        "\n",
        "# Try to access price after deletion\n",
        "print(f\"Final price: {product.price}\")"
      ],
      "metadata": {
        "colab": {
          "base_uri": "https://localhost:8080/"
        },
        "id": "g8OaufGs0SKe",
        "outputId": "1393076a-cf28-4484-f518-e0c7bc11f62b"
      },
      "execution_count": null,
      "outputs": [
        {
          "output_type": "stream",
          "name": "stdout",
          "text": [
            "Initial price: $1000.0\n",
            "Updated price: $1200.0\n",
            "Error: Price cannot be negative\n",
            "Deleting price for Laptop\n",
            "Price after deletion: None\n",
            "Final price: None\n"
          ]
        }
      ]
    },
    {
      "cell_type": "markdown",
      "source": [
        "**19. callable() and __call__()**"
      ],
      "metadata": {
        "id": "PsJ2mg1b0mHO"
      }
    },
    {
      "cell_type": "code",
      "source": [
        "class Multiplier:\n",
        "    def __init__(self, factor):\n",
        "        self.factor = factor\n",
        "\n",
        "    def __call__(self, x):\n",
        "        return x * self.factor\n",
        "\n",
        "\n",
        "multiply_by_3 = Multiplier(3)\n",
        "\n",
        "print(\"Is callable?\", callable(multiply_by_3))\n",
        "\n",
        "print(\"3 * 5 =\", multiply_by_3(5))\n",
        "print(\"3 * 7.5 =\", multiply_by_3(7.5))"
      ],
      "metadata": {
        "colab": {
          "base_uri": "https://localhost:8080/"
        },
        "id": "P4jFJ1Kp0yNd",
        "outputId": "81789e77-1ccc-4835-c706-1ee70370b8df"
      },
      "execution_count": null,
      "outputs": [
        {
          "output_type": "stream",
          "name": "stdout",
          "text": [
            "Is callable? True\n",
            "3 * 5 = 15\n",
            "3 * 7.5 = 22.5\n"
          ]
        }
      ]
    },
    {
      "cell_type": "markdown",
      "source": [
        "**20. Creating a Custom Exception**"
      ],
      "metadata": {
        "id": "p0h7CP_k1oMj"
      }
    },
    {
      "cell_type": "code",
      "source": [
        "# custom exception\n",
        "class InvalidAgeError(Exception):\n",
        "    \"\"\"Raised when age is below 18\"\"\"\n",
        "    pass\n",
        "\n",
        "# Create the age validation function\n",
        "def check_age(age):\n",
        "    if age < 18:\n",
        "        raise InvalidAgeError(\"Age must be at least 18 years old\")\n",
        "    print(\"Age is valid!\")\n",
        "\n",
        "# Test with try...except\n",
        "# Test Case 1: Valid age\n",
        "try:\n",
        "    check_age(20)\n",
        "except InvalidAgeError as e:\n",
        "    print(f\"Error: {e}\")\n",
        "\n",
        "# Test Case 2: Invalid age\n",
        "try:\n",
        "    check_age(15)\n",
        "except InvalidAgeError as e:\n",
        "    print(f\"Error: {e}\")"
      ],
      "metadata": {
        "colab": {
          "base_uri": "https://localhost:8080/"
        },
        "id": "2LQVCZkW11E7",
        "outputId": "a49dce10-17cb-49da-fcba-177f4053c4b9"
      },
      "execution_count": null,
      "outputs": [
        {
          "output_type": "stream",
          "name": "stdout",
          "text": [
            "Age is valid!\n",
            "Error: Age must be at least 18 years old\n"
          ]
        }
      ]
    },
    {
      "cell_type": "markdown",
      "source": [
        "**21. Make a Custom Class Iterable**"
      ],
      "metadata": {
        "id": "-DMqA6g514pM"
      }
    },
    {
      "cell_type": "code",
      "source": [
        "class Countdown:\n",
        "    def __init__(self, start: int):\n",
        "        \"\"\"\n",
        "        Constructor: Initializes a Countdown with a start number.\n",
        "        \"\"\"\n",
        "        self.start = start\n",
        "        self.current = start\n",
        "\n",
        "    def __iter__(self):\n",
        "        \"\"\"\n",
        "        Makes the object iterable by returning itself as the iterator.\n",
        "        \"\"\"\n",
        "        return self\n",
        "\n",
        "    def __next__(self):\n",
        "        \"\"\"\n",
        "        Returns the next number in the countdown. Stops when reaching 0.\n",
        "        \"\"\"\n",
        "        if self.current < 0:\n",
        "            raise StopIteration\n",
        "        result = self.current\n",
        "        self.current -= 1\n",
        "        return result\n",
        "\n",
        "# Demonstrate usage\n",
        "countdown = Countdown(5)\n",
        "\n",
        "print(\"Counting down from 5:\")\n",
        "for number in countdown:\n",
        "    print(number)"
      ],
      "metadata": {
        "id": "JZKG28hi17B7",
        "colab": {
          "base_uri": "https://localhost:8080/"
        },
        "outputId": "3a2e2149-0e5e-4c94-8f3c-e967380d0cca"
      },
      "execution_count": 1,
      "outputs": [
        {
          "output_type": "stream",
          "name": "stdout",
          "text": [
            "Counting down from 5:\n",
            "5\n",
            "4\n",
            "3\n",
            "2\n",
            "1\n",
            "0\n"
          ]
        }
      ]
    }
  ]
}